{
 "cells": [
  {
   "cell_type": "markdown",
   "metadata": {},
   "source": [
    "#### Exercise 1  (Listen, Tupel, Dictionaries)"
   ]
  },
  {
   "cell_type": "code",
   "execution_count": 3,
   "metadata": {},
   "outputs": [
    {
     "data": {
      "text/plain": [
       "[(0, 3, 5, 2, 0), (2, 1), (1, 5, 2), (2, 3), (4, 1, 8, 6, 2, 4), (2, 7, 3, 5)]"
      ]
     },
     "execution_count": 3,
     "metadata": {},
     "output_type": "execute_result"
    }
   ],
   "source": [
    "tuple_list = [(2, 7, 3, 5), (1,5,2), (4, 1, 8, 6, 2, 4), (2, 3), (2, 1), (0, 3, 5, 2, 0)]\n",
    "\n",
    "def get_last_item(iterable):\n",
    "    return iterable[-1]\n",
    "\n",
    "def sort_tuples_by_last_item(tuple_list):\n",
    "    return sorted(tuple_list, key = get_last_item)\n",
    "\n",
    "sort_tuples_by_last_item(tuple_list)"
   ]
  },
  {
   "cell_type": "markdown",
   "metadata": {},
   "source": [
    "#### Exercise 2 (Listen, Tupel, Dictionaries)"
   ]
  },
  {
   "cell_type": "code",
   "execution_count": 9,
   "metadata": {},
   "outputs": [
    {
     "data": {
      "text/plain": [
       "[(0, 3, 5, 2, 0), (1, 5, 2), (2, 7, 3, 5), (2, 3), (2, 1), (4, 1, 8, 6, 2, 4)]"
      ]
     },
     "execution_count": 9,
     "metadata": {},
     "output_type": "execute_result"
    }
   ],
   "source": [
    "tuple_list = [(2, 7, 3, 5), (1,5,2), (4, 1, 8, 6, 2, 4), (2, 3), (2, 1), (0, 3, 5, 2, 0)]\n",
    "\n",
    "def get_fist_item(iterable):\n",
    "    return iterable[0]\n",
    "\n",
    "def sort_tuples_by_first_item(tuple_list):\n",
    "    return sorted(tuple_list, key = get_fist_item)\n",
    "\n",
    "sort_tuples_by_first_item(input_list)"
   ]
  },
  {
   "cell_type": "markdown",
   "metadata": {},
   "source": [
    "#### Exercise 3 (Listen, Tupel, Dictionaries)"
   ]
  },
  {
   "cell_type": "code",
   "execution_count": 10,
   "metadata": {},
   "outputs": [
    {
     "data": {
      "text/plain": [
       "[(4, 1, 8, 6, 2, 4), (2, 3), (2, 1), (0, 3, 5, 2, 0), (2, 7, 3, 5), (1, 5, 2)]"
      ]
     },
     "execution_count": 10,
     "metadata": {},
     "output_type": "execute_result"
    }
   ],
   "source": [
    "input_list = [(2, 7, 3, 5), (1,5,2), (4, 1, 8, 6, 2, 4), (2, 3), (2, 1), (0, 3, 5, 2, 0)]\n",
    "\n",
    "def get_second_last_item(iterable):\n",
    "    return iterable[-2]\n",
    "\n",
    "def sort_tuples_by_second_last_item(tuple_list):\n",
    "    return sorted(tuple_list, key = get_second_last_item)\n",
    "\n",
    "sort_tuples_by_second_last_item(input_list)"
   ]
  },
  {
   "cell_type": "markdown",
   "metadata": {},
   "source": [
    "#### Exercise 4 (Listen, Tupel, Dictionaries)"
   ]
  },
  {
   "cell_type": "code",
   "execution_count": 13,
   "metadata": {},
   "outputs": [
    {
     "data": {
      "text/plain": [
       "[(1, 2), (2, 1), (2, 3), (2, 5), (4, 4)]"
      ]
     },
     "execution_count": 13,
     "metadata": {},
     "output_type": "execute_result"
    }
   ],
   "source": [
    "input_list = [(2, 5), (1, 2), (4, 4), (2, 3), (2, 1)]\n",
    "\n",
    "def get_hypoteneuse_of_tuple(iterable):\n",
    "    return (iterable[0] ** 2) + (iterable[1] ** 2)\n",
    "\n",
    "def sort_tuples_by(input_list):\n",
    "    return sorted(input_list, key = get_hypoteneuse_of_tuple)\n",
    "\n",
    "sort_tuples_by(input_list)"
   ]
  },
  {
   "cell_type": "markdown",
   "metadata": {},
   "source": [
    "#### Exercise 5 (Listen, Tupel, Dictionaries)"
   ]
  },
  {
   "cell_type": "code",
   "execution_count": 16,
   "metadata": {},
   "outputs": [
    {
     "data": {
      "text/plain": [
       "[(3, 1, 8, 6, 2, 4), (2, 3), (2, 1), (0, 3, 5, 2, 0), (3, 7, 3, 5), (1, 5, 2)]"
      ]
     },
     "execution_count": 16,
     "metadata": {},
     "output_type": "execute_result"
    }
   ],
   "source": [
    "list_input = [(3, 7, 3, 5), (1, 5, 2), (3, 1, 8, 6, 2, 4), (2, 3), (2, 1), (0, 3, 5, 2, 0)]\n",
    "\n",
    "def sort_tuples_by_second_last_even_odd(tuple_list):\n",
    "    odd_values_list = []\n",
    "    even_values_list = []\n",
    "    \n",
    "    for index in range(len(tuple_list)):\n",
    "        if tuple_list[index][-2] % 2 != 0:\n",
    "            odd_values_list.append(tuple_list[index])\n",
    "        else:\n",
    "            even_values_list.append(tuple_list[index])\n",
    "            \n",
    "        odd_values_list.sort(reverse = True)\n",
    "        even_values_list.sort(reverse = True)\n",
    "        \n",
    "    return even_values_list + odd_values_list\n",
    "    \n",
    "sort_tuples_by_second_last_even_odd(list_input)"
   ]
  },
  {
   "cell_type": "markdown",
   "metadata": {},
   "source": [
    "#### Exercise 6 (Listen, Tupel, Dictionaries)"
   ]
  },
  {
   "cell_type": "code",
   "execution_count": 38,
   "metadata": {},
   "outputs": [
    {
     "name": "stdout",
     "output_type": "stream",
     "text": [
      "[1, 0, 3, 2, 5, 4]\n"
     ]
    }
   ],
   "source": [
    "items_list = [0, 1, 2, 3, 4, 5]\n",
    "\n",
    "def swap_adjecent_items(items_list):\n",
    "    swapped_pairs_list = []\n",
    "    items_pair_count = len(items_list) // 2\n",
    "    for index in range(items_pair_count):\n",
    "        items_pair = items_list[2*index: 2*(index+1)]\n",
    "        swapped_pairs_list.append(items_pair[1])\n",
    "        swapped_pairs_list.append(items_pair[0])\n",
    "    print(swapped_pairs_list)\n",
    "    \n",
    "swap_adjecent_items(items_list)"
   ]
  },
  {
   "cell_type": "markdown",
   "metadata": {},
   "source": [
    "#### Exercise 7 (Listen, Tupel, Dictionaries)"
   ]
  },
  {
   "cell_type": "code",
   "execution_count": 39,
   "metadata": {},
   "outputs": [
    {
     "data": {
      "text/plain": [
       "[22, 33, 44, 55]"
      ]
     },
     "execution_count": 39,
     "metadata": {},
     "output_type": "execute_result"
    }
   ],
   "source": [
    "tuple_list = [(), (), 22, 33, (), 44, (), 55, ()]\n",
    "\n",
    "def remove_empty_tuples(tuple_list):\n",
    "    while () in tuple_list:\n",
    "        for item in tuple_list:\n",
    "            if not item:\n",
    "                item_index = tuple_list.index(item)\n",
    "                del tuple_list[item_index]\n",
    "    return tuple_list\n",
    "\n",
    "remove_empty_tuples(x)"
   ]
  },
  {
   "cell_type": "markdown",
   "metadata": {},
   "source": [
    "#### Exercise 8 (Listen, Tupel, Dictionaries)"
   ]
  },
  {
   "cell_type": "code",
   "execution_count": 40,
   "metadata": {},
   "outputs": [
    {
     "data": {
      "text/plain": [
       "[('item3', '24.5'), ('item2', '15.10'), ('item1', '12.20')]"
      ]
     },
     "execution_count": 40,
     "metadata": {},
     "output_type": "execute_result"
    }
   ],
   "source": [
    "werte = [(\"item1\", \"12.20\"), (\"item2\", \"15.10\"), (\"item3\", \"24.5\")]\n",
    "def convert_to_float(n):\n",
    "   return float(n[1]) \n",
    "\n",
    "def sort_tuples_by_float(tuple_list):\n",
    "    return sorted(tuple_list, key = convert_to_float, reverse = True)\n",
    "    \n",
    "sort_tuples_by_float(werte)"
   ]
  },
  {
   "cell_type": "markdown",
   "metadata": {},
   "source": [
    "#### Exercise 9 (Listen, Tupel, Dictionaries)"
   ]
  },
  {
   "cell_type": "code",
   "execution_count": 41,
   "metadata": {},
   "outputs": [
    {
     "name": "stdout",
     "output_type": "stream",
     "text": [
      "{'S005', 'S001', 'S009', 'S002'}\n"
     ]
    }
   ],
   "source": [
    "werte = [{\"V\": \"S001\"}, {\"V\": \"S002\"}, {\"V\": \"S001\"}, {\"VI\": \"S005\"},\\\n",
    "          {\"VII\": \"S005\"}, {\"V\": \"S009\"}]\n",
    "\n",
    "def get_unique_values(werte):\n",
    "    unique_items = set()\n",
    "    for item in werte:\n",
    "        unique_items.add(list(item.values())[0])\n",
    "    print(set(unique_items))\n",
    "    \n",
    "get_unique_values(werte)"
   ]
  },
  {
   "cell_type": "markdown",
   "metadata": {},
   "source": [
    "#### Exercise 10 (Listen, Tupel, Dictionaries)"
   ]
  },
  {
   "cell_type": "code",
   "execution_count": 42,
   "metadata": {},
   "outputs": [
    {
     "data": {
      "text/plain": [
       "'MinVal = 1 MaxVal = 66'"
      ]
     },
     "execution_count": 42,
     "metadata": {},
     "output_type": "execute_result"
    }
   ],
   "source": [
    "def get_max_and_min(set_object):\n",
    "    return \"MinVal = {0} MaxVal = {1}\".format(min(set_object), max(set_object))\n",
    "\n",
    "get_max_and_min({1, 3, 44, 55, 66})"
   ]
  }
 ],
 "metadata": {
  "kernelspec": {
   "display_name": "Python 3",
   "language": "python",
   "name": "python3"
  },
  "language_info": {
   "codemirror_mode": {
    "name": "ipython",
    "version": 3
   },
   "file_extension": ".py",
   "mimetype": "text/x-python",
   "name": "python",
   "nbconvert_exporter": "python",
   "pygments_lexer": "ipython3",
   "version": "3.5.2"
  }
 },
 "nbformat": 4,
 "nbformat_minor": 2
}
